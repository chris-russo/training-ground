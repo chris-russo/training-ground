{
 "cells": [
  {
   "cell_type": "markdown",
   "metadata": {},
   "source": [
    "# Scrape Premier League data\n",
    "Created Tuesday, 29 Mar 2016"
   ]
  },
  {
   "cell_type": "code",
   "execution_count": 18,
   "metadata": {
    "collapsed": false
   },
   "outputs": [],
   "source": [
    "# Import libraries\n",
    "from bs4 import BeautifulSoup\n",
    "import numpy as np\n",
    "import pandas as pd\n",
    "from time import time\n",
    "from urllib.request import urlopen"
   ]
  },
  {
   "cell_type": "markdown",
   "metadata": {},
   "source": [
    "## EA Sports Player Performance Index"
   ]
  },
  {
   "cell_type": "code",
   "execution_count": 32,
   "metadata": {
    "collapsed": false
   },
   "outputs": [],
   "source": [
    "# Get PPI data from url\n",
    "pl_ppi = \"http://www.premierleague.com/en-gb/players/ea-sports-player-performance-index.html\"\n",
    "content = urlopen(pl_ppi).read()\n",
    "soup = BeautifulSoup(content, \"lxml\")\n",
    "trs = soup.find(\"div\", attrs={\"class\": \"tableView\"}).find(\"table\").findAll(\"tr\")"
   ]
  },
  {
   "cell_type": "code",
   "execution_count": 27,
   "metadata": {
    "collapsed": true
   },
   "outputs": [],
   "source": [
    "# TODO: For each tr in trs, write each td to a row in a data frame."
   ]
  },
  {
   "cell_type": "markdown",
   "metadata": {},
   "source": [
    "### Resources\n",
    "http://stackoverflow.com/questions/30847117/web-scraping-table-data-in-python <br \\>\n",
    "http://stackoverflow.com/questions/22777187/nested-tags-web-scraping-python <br \\>\n",
    "https://www.quora.com/How-do-I-install-urllib-and-urllib2-for-Python-3-3-2 <br \\>\n",
    "https://www.youtube.com/watch?v=5GzVNi0oTxQ"
   ]
  }
 ],
 "metadata": {
  "kernelspec": {
   "display_name": "Python 3",
   "language": "python",
   "name": "python3"
  },
  "language_info": {
   "codemirror_mode": {
    "name": "ipython",
    "version": 3
   },
   "file_extension": ".py",
   "mimetype": "text/x-python",
   "name": "python",
   "nbconvert_exporter": "python",
   "pygments_lexer": "ipython3",
   "version": "3.5.1"
  }
 },
 "nbformat": 4,
 "nbformat_minor": 0
}
